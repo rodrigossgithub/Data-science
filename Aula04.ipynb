{
  "nbformat": 4,
  "nbformat_minor": 0,
  "metadata": {
    "colab": {
      "name": "Aula04.ipynb",
      "provenance": [],
      "collapsed_sections": [],
      "include_colab_link": true
    },
    "kernelspec": {
      "display_name": "Python 3",
      "language": "python",
      "name": "python3"
    },
    "language_info": {
      "codemirror_mode": {
        "name": "ipython",
        "version": 3
      },
      "file_extension": ".py",
      "mimetype": "text/x-python",
      "name": "python",
      "nbconvert_exporter": "python",
      "pygments_lexer": "ipython3",
      "version": "3.7.4"
    },
    "toc": {
      "base_numbering": 1,
      "nav_menu": {
        "height": "436px",
        "width": "256px"
      },
      "number_sections": true,
      "sideBar": false,
      "skip_h1_title": false,
      "title_cell": "Table of Contents",
      "title_sidebar": "Contents",
      "toc_cell": true,
      "toc_position": {},
      "toc_section_display": true,
      "toc_window_display": false
    }
  },
  "cells": [
    {
      "cell_type": "markdown",
      "metadata": {
        "id": "view-in-github",
        "colab_type": "text"
      },
      "source": [
        "<a href=\"https://colab.research.google.com/github/rodrigossgithub/Data-science/blob/master/Aula04.ipynb\" target=\"_parent\"><img src=\"https://colab.research.google.com/assets/colab-badge.svg\" alt=\"Open In Colab\"/></a>"
      ]
    },
    {
      "cell_type": "markdown",
      "metadata": {
        "id": "GRQ28CeZZeWw"
      },
      "source": [
        "<strong><b><font size=\"5\">Data Science Academy</font></b></strong>"
      ]
    },
    {
      "cell_type": "markdown",
      "metadata": {
        "id": "_DPfn8sIZeWy"
      },
      "source": [
        "<strong><b><font size=\"5\">Análise Estatística e Modelagem Preditiva de Séries Temporais - Em Python</font></b></strong>"
      ]
    },
    {
      "cell_type": "markdown",
      "metadata": {
        "id": "bLmuhM18ZeWz"
      },
      "source": [
        "<strong><b><font size=\"5\">Aula 4 – Séries Multiplicativas, Aditivas e Decomposição de Séries Temporais</font></b></strong>"
      ]
    },
    {
      "cell_type": "markdown",
      "metadata": {
        "id": "Tgn15tbqZeW0"
      },
      "source": [
        "Todas as aulas deste curso podem ser encontradas na timeline da Comunidade em nosso portal: www.datascienceacademy.com.br"
      ]
    },
    {
      "cell_type": "markdown",
      "metadata": {
        "id": "IKTGREJaZeW2"
      },
      "source": [
        "Vamos começar as aulas práticas sobre análise e modelagem de séries temporais. Nossa primeira tarefa será decompor uma série temporal e identificar seus componentes, conforme definimos nas primeiras aulas o curso.\n",
        "\n",
        "Primeiro, uma rápida revisão:"
      ]
    },
    {
      "cell_type": "markdown",
      "metadata": {
        "id": "tDQJesrDZeW3"
      },
      "source": [
        "## Séries Temporais\n",
        "\n",
        "- Uma série temporal é um conjunto sequencial de pontos de dados, medido tipicamente em tempos sucessivos.\n",
        "\n",
        "- É matematicamente definido como um conjunto de vetores x(t), t = 0,1,2, ... onde t representa o tempo decorrido.\n",
        "\n",
        "- A variável x(t) é tratada como uma variável aleatória.\n",
        "\n",
        "- As medições realizadas durante um evento em uma série temporal são organizadas em uma ordem cronológica adequada.\n",
        "\n",
        "- Uma série temporal contendo registros de uma única variável é denominada como univariada e mais de uma variável como multivariada."
      ]
    },
    {
      "cell_type": "markdown",
      "metadata": {
        "id": "NHMMGY96ZeW4"
      },
      "source": [
        "### Análise Exploratória"
      ]
    },
    {
      "cell_type": "markdown",
      "metadata": {
        "id": "lBrjho2eZeW5"
      },
      "source": [
        "Uma análise exploratória dos dados permite compreender como os dados estão organizados."
      ]
    },
    {
      "cell_type": "code",
      "metadata": {
        "id": "fpaiIJ_DZeW6"
      },
      "source": [
        "# Para atualizar um pacote, execute o comando abaixo no terminal ou prompt de comando:\n",
        "# pip install -U nome_pacote\n",
        "\n",
        "# Para instalar a versão exata de um pacote, execute o comando abaixo no terminal ou prompt de comando:\n",
        "# pip install nome_pacote==versão_desejada\n",
        "\n",
        "# Depois de instalar ou atualizar o pacote, reinicie o jupyter notebook, se necessário."
      ],
      "execution_count": 1,
      "outputs": []
    },
    {
      "cell_type": "code",
      "metadata": {
        "id": "GkJ8xjvCZeW9"
      },
      "source": [
        "# Instala o pacote watermark. \n",
        "# Esse pacote é usado para gravar as versões de outros pacotes usados neste jupyter notebook.\n",
        "!pip install -q -U watermark"
      ],
      "execution_count": 2,
      "outputs": []
    },
    {
      "cell_type": "code",
      "metadata": {
        "id": "1nWPYW--ZeXA"
      },
      "source": [
        "# As novas versões do Pandas e Matplotlib trazem diversas mensagens de aviso ao desenvolvedor. Vamos desativar isso.\n",
        "import sys\n",
        "import warnings\n",
        "import matplotlib.cbook\n",
        "if not sys.warnoptions:\n",
        "    warnings.simplefilter(\"ignore\")\n",
        "warnings.simplefilter(action='ignore', category=FutureWarning)\n",
        "warnings.filterwarnings(\"ignore\", category=FutureWarning)\n",
        "warnings.filterwarnings(\"ignore\", category=matplotlib.cbook.mplDeprecation)\n",
        "\n",
        "# Imports para manipulação de dados\n",
        "import pandas as pd\n",
        "import numpy as np\n",
        "\n",
        "# Imports para visualização de dados\n",
        "import matplotlib.pyplot as plt\n",
        "import matplotlib as m\n",
        "import seaborn as sns\n",
        "\n",
        "# Imports análise e modelagem de séries temporais\n",
        "import statsmodels.api as sm\n",
        "from statsmodels.tsa.seasonal import seasonal_decompose\n",
        "\n",
        "# Formatando as saídas dos gráficos\n",
        "plt.style.use('fivethirtyeight')\n",
        "pd.set_option('display.expand_frame_repr', False)\n",
        "pd.set_option('display.max_columns', 500)\n",
        "pd.set_option('display.width', 1000)\n",
        "m.rcParams['axes.labelsize'] = 14\n",
        "m.rcParams['xtick.labelsize'] = 12\n",
        "m.rcParams['ytick.labelsize'] = 12\n",
        "m.rcParams['text.color'] = 'k'"
      ],
      "execution_count": 3,
      "outputs": []
    },
    {
      "cell_type": "code",
      "metadata": {
        "id": "8fxYgPOhZeXC",
        "colab": {
          "base_uri": "https://localhost:8080/"
        },
        "outputId": "7e5ee733-b1fb-42c7-9e60-e9882eb7db6a"
      },
      "source": [
        "# Versões dos pacotes usados neste jupyter notebook\n",
        "%reload_ext watermark\n",
        "%watermark -a \"Data Science Academy\" --iversions"
      ],
      "execution_count": 4,
      "outputs": [
        {
          "output_type": "stream",
          "name": "stdout",
          "text": [
            "Author: Data Science Academy\n",
            "\n",
            "seaborn    : 0.11.2\n",
            "matplotlib : 3.2.2\n",
            "IPython    : 5.5.0\n",
            "pandas     : 1.1.5\n",
            "statsmodels: 0.10.2\n",
            "numpy      : 1.19.5\n",
            "sys        : 3.7.12 (default, Sep 10 2021, 00:21:48) \n",
            "[GCC 7.5.0]\n",
            "\n"
          ]
        }
      ]
    },
    {
      "cell_type": "markdown",
      "metadata": {
        "id": "Xr8XFjYvZeXG"
      },
      "source": [
        "Vamos carregar um dataset com uma série temporal.\n",
        "\n",
        "O dataset é público e pode ser encontrado aqui:\n",
        "\n",
        "https://www.kaggle.com/rakannimer/air-passengers\n",
        "\n",
        "O conjunto de dados AirPassenger fornece totais mensais de passageiros de uma companhia aérea dos EUA, de 1949 a 1960. Esse conjunto de dados já é de uma classe de série temporal, portanto, nenhuma manipulação adicional de classe ou data é necessária."
      ]
    },
    {
      "cell_type": "code",
      "metadata": {
        "id": "0ZiBthM6ZeXI"
      },
      "source": [
        "# Carrega os dados\n",
        "dados = pd.read_csv('https://raw.githubusercontent.com/dsacademybr/Datasets/master/dataset1.csv', header = None)"
      ],
      "execution_count": 5,
      "outputs": []
    },
    {
      "cell_type": "code",
      "metadata": {
        "id": "ITzC7QVRZeXK",
        "colab": {
          "base_uri": "https://localhost:8080/",
          "height": 203
        },
        "outputId": "5bb9d92d-22b3-4508-94a2-bdabe52f8f7a"
      },
      "source": [
        "# Visualizando os Dados\n",
        "dados.head()"
      ],
      "execution_count": 6,
      "outputs": [
        {
          "output_type": "execute_result",
          "data": {
            "text/html": [
              "<div>\n",
              "<style scoped>\n",
              "    .dataframe tbody tr th:only-of-type {\n",
              "        vertical-align: middle;\n",
              "    }\n",
              "\n",
              "    .dataframe tbody tr th {\n",
              "        vertical-align: top;\n",
              "    }\n",
              "\n",
              "    .dataframe thead th {\n",
              "        text-align: right;\n",
              "    }\n",
              "</style>\n",
              "<table border=\"1\" class=\"dataframe\">\n",
              "  <thead>\n",
              "    <tr style=\"text-align: right;\">\n",
              "      <th></th>\n",
              "      <th>0</th>\n",
              "      <th>1</th>\n",
              "    </tr>\n",
              "  </thead>\n",
              "  <tbody>\n",
              "    <tr>\n",
              "      <th>0</th>\n",
              "      <td>1949-01</td>\n",
              "      <td>112</td>\n",
              "    </tr>\n",
              "    <tr>\n",
              "      <th>1</th>\n",
              "      <td>1949-02</td>\n",
              "      <td>118</td>\n",
              "    </tr>\n",
              "    <tr>\n",
              "      <th>2</th>\n",
              "      <td>1949-03</td>\n",
              "      <td>132</td>\n",
              "    </tr>\n",
              "    <tr>\n",
              "      <th>3</th>\n",
              "      <td>1949-04</td>\n",
              "      <td>129</td>\n",
              "    </tr>\n",
              "    <tr>\n",
              "      <th>4</th>\n",
              "      <td>1949-05</td>\n",
              "      <td>121</td>\n",
              "    </tr>\n",
              "  </tbody>\n",
              "</table>\n",
              "</div>"
            ],
            "text/plain": [
              "         0    1\n",
              "0  1949-01  112\n",
              "1  1949-02  118\n",
              "2  1949-03  132\n",
              "3  1949-04  129\n",
              "4  1949-05  121"
            ]
          },
          "metadata": {},
          "execution_count": 6
        }
      ]
    },
    {
      "cell_type": "markdown",
      "metadata": {
        "id": "CEbuPKxiZeXN"
      },
      "source": [
        "Perceba que são duas colunas. Esses dados representam uma série univariada, pois temos uma variável aleatória x (número de passageiros) e a data, que representa o índice da série.\n",
        "\n",
        "Vamos ajustar o nome de cada coluna."
      ]
    },
    {
      "cell_type": "code",
      "metadata": {
        "id": "OfJ_2VUjZeXN"
      },
      "source": [
        "# Ajustando o nome de cada coluna\n",
        "dados.columns = ['mes','passageiros']"
      ],
      "execution_count": 7,
      "outputs": []
    },
    {
      "cell_type": "code",
      "metadata": {
        "id": "jLW_kC9dZeXQ",
        "scrolled": true,
        "colab": {
          "base_uri": "https://localhost:8080/",
          "height": 203
        },
        "outputId": "2c295280-612f-4fe9-c510-2c51958c1fc7"
      },
      "source": [
        "# Visualizando os Dados\n",
        "dados.head()"
      ],
      "execution_count": 8,
      "outputs": [
        {
          "output_type": "execute_result",
          "data": {
            "text/html": [
              "<div>\n",
              "<style scoped>\n",
              "    .dataframe tbody tr th:only-of-type {\n",
              "        vertical-align: middle;\n",
              "    }\n",
              "\n",
              "    .dataframe tbody tr th {\n",
              "        vertical-align: top;\n",
              "    }\n",
              "\n",
              "    .dataframe thead th {\n",
              "        text-align: right;\n",
              "    }\n",
              "</style>\n",
              "<table border=\"1\" class=\"dataframe\">\n",
              "  <thead>\n",
              "    <tr style=\"text-align: right;\">\n",
              "      <th></th>\n",
              "      <th>mes</th>\n",
              "      <th>passageiros</th>\n",
              "    </tr>\n",
              "  </thead>\n",
              "  <tbody>\n",
              "    <tr>\n",
              "      <th>0</th>\n",
              "      <td>1949-01</td>\n",
              "      <td>112</td>\n",
              "    </tr>\n",
              "    <tr>\n",
              "      <th>1</th>\n",
              "      <td>1949-02</td>\n",
              "      <td>118</td>\n",
              "    </tr>\n",
              "    <tr>\n",
              "      <th>2</th>\n",
              "      <td>1949-03</td>\n",
              "      <td>132</td>\n",
              "    </tr>\n",
              "    <tr>\n",
              "      <th>3</th>\n",
              "      <td>1949-04</td>\n",
              "      <td>129</td>\n",
              "    </tr>\n",
              "    <tr>\n",
              "      <th>4</th>\n",
              "      <td>1949-05</td>\n",
              "      <td>121</td>\n",
              "    </tr>\n",
              "  </tbody>\n",
              "</table>\n",
              "</div>"
            ],
            "text/plain": [
              "       mes  passageiros\n",
              "0  1949-01          112\n",
              "1  1949-02          118\n",
              "2  1949-03          132\n",
              "3  1949-04          129\n",
              "4  1949-05          121"
            ]
          },
          "metadata": {},
          "execution_count": 8
        }
      ]
    },
    {
      "cell_type": "code",
      "metadata": {
        "id": "YCj525_bZeXS",
        "colab": {
          "base_uri": "https://localhost:8080/",
          "height": 295
        },
        "outputId": "54d70fdd-f415-43be-be75-0122af15653f"
      },
      "source": [
        "# Resumo estatístico da variável passageiros. A média é de 280 passageiros.\n",
        "dados.describe()"
      ],
      "execution_count": 9,
      "outputs": [
        {
          "output_type": "execute_result",
          "data": {
            "text/html": [
              "<div>\n",
              "<style scoped>\n",
              "    .dataframe tbody tr th:only-of-type {\n",
              "        vertical-align: middle;\n",
              "    }\n",
              "\n",
              "    .dataframe tbody tr th {\n",
              "        vertical-align: top;\n",
              "    }\n",
              "\n",
              "    .dataframe thead th {\n",
              "        text-align: right;\n",
              "    }\n",
              "</style>\n",
              "<table border=\"1\" class=\"dataframe\">\n",
              "  <thead>\n",
              "    <tr style=\"text-align: right;\">\n",
              "      <th></th>\n",
              "      <th>passageiros</th>\n",
              "    </tr>\n",
              "  </thead>\n",
              "  <tbody>\n",
              "    <tr>\n",
              "      <th>count</th>\n",
              "      <td>144.000000</td>\n",
              "    </tr>\n",
              "    <tr>\n",
              "      <th>mean</th>\n",
              "      <td>280.298611</td>\n",
              "    </tr>\n",
              "    <tr>\n",
              "      <th>std</th>\n",
              "      <td>119.966317</td>\n",
              "    </tr>\n",
              "    <tr>\n",
              "      <th>min</th>\n",
              "      <td>104.000000</td>\n",
              "    </tr>\n",
              "    <tr>\n",
              "      <th>25%</th>\n",
              "      <td>180.000000</td>\n",
              "    </tr>\n",
              "    <tr>\n",
              "      <th>50%</th>\n",
              "      <td>265.500000</td>\n",
              "    </tr>\n",
              "    <tr>\n",
              "      <th>75%</th>\n",
              "      <td>360.500000</td>\n",
              "    </tr>\n",
              "    <tr>\n",
              "      <th>max</th>\n",
              "      <td>622.000000</td>\n",
              "    </tr>\n",
              "  </tbody>\n",
              "</table>\n",
              "</div>"
            ],
            "text/plain": [
              "       passageiros\n",
              "count   144.000000\n",
              "mean    280.298611\n",
              "std     119.966317\n",
              "min     104.000000\n",
              "25%     180.000000\n",
              "50%     265.500000\n",
              "75%     360.500000\n",
              "max     622.000000"
            ]
          },
          "metadata": {},
          "execution_count": 9
        }
      ]
    },
    {
      "cell_type": "code",
      "metadata": {
        "id": "iGhQ42axZeXU",
        "colab": {
          "base_uri": "https://localhost:8080/"
        },
        "outputId": "d85f34a1-1daa-418d-ee48-ae6a553551bd"
      },
      "source": [
        "# Qual será o mês com maior número de passageiros? Dezembro de 1960 teve 622 passageiros.\n",
        "dados.max()"
      ],
      "execution_count": 10,
      "outputs": [
        {
          "output_type": "execute_result",
          "data": {
            "text/plain": [
              "mes            1960-12\n",
              "passageiros        622\n",
              "dtype: object"
            ]
          },
          "metadata": {},
          "execution_count": 10
        }
      ]
    },
    {
      "cell_type": "code",
      "metadata": {
        "id": "Aulxk0IPZeXW",
        "colab": {
          "base_uri": "https://localhost:8080/"
        },
        "outputId": "77da055d-45a3-4270-c19e-ea8224f243e6"
      },
      "source": [
        "# Vamos coletar o período completo da série temporal\n",
        "print('Início do Período de Tempo: {}\\nFinal do Período de Tempo: {}'.format(dados.mes.min(), dados.mes.max()))"
      ],
      "execution_count": 11,
      "outputs": [
        {
          "output_type": "stream",
          "name": "stdout",
          "text": [
            "Início do Período de Tempo: 1949-01\n",
            "Final do Período de Tempo: 1960-12\n"
          ]
        }
      ]
    },
    {
      "cell_type": "code",
      "metadata": {
        "id": "KY28LtqFZeXY"
      },
      "source": [
        "# Shape dos Dados\n",
        "dados.shape"
      ],
      "execution_count": null,
      "outputs": []
    },
    {
      "cell_type": "code",
      "metadata": {
        "id": "fOy0a77vZeXa"
      },
      "source": [
        "# Tipos dos Dados\n",
        "dados.dtypes"
      ],
      "execution_count": null,
      "outputs": []
    },
    {
      "cell_type": "markdown",
      "metadata": {
        "id": "0_h7mcRKZeXc"
      },
      "source": [
        "Observe que a coluna de data está como tipo object, que é a representação de string. Teremos que ajustar isso."
      ]
    },
    {
      "cell_type": "code",
      "metadata": {
        "id": "xyOaO2aSZeXd"
      },
      "source": [
        "# Tipo do objeto\n",
        "type(dados)"
      ],
      "execution_count": null,
      "outputs": []
    },
    {
      "cell_type": "markdown",
      "metadata": {
        "id": "w61ZD6hIZeXg"
      },
      "source": [
        "### Processamento e Visualização dos Dados"
      ]
    },
    {
      "cell_type": "markdown",
      "metadata": {
        "id": "5qo44mZ4ZeXg"
      },
      "source": [
        "Vamos converter a data do tipo object (string) para o tipo apropriado, datetime, pois assim podemos usar métodos e atributos específicos de datas."
      ]
    },
    {
      "cell_type": "code",
      "metadata": {
        "id": "ac7BVW6eZeXh"
      },
      "source": [
        "# Convertendo a coluna data de object para datetime  \n",
        "dados['mes'] = pd.to_datetime(dados['mes'], format = '%Y-%m')"
      ],
      "execution_count": null,
      "outputs": []
    },
    {
      "cell_type": "code",
      "metadata": {
        "id": "yUqlKLSpZeXj"
      },
      "source": [
        "# Tipos dos Dados\n",
        "dados.dtypes"
      ],
      "execution_count": null,
      "outputs": []
    },
    {
      "cell_type": "code",
      "metadata": {
        "id": "pTLPSvLyZeXl"
      },
      "source": [
        "# Visualizando os Dados\n",
        "dados.head()"
      ],
      "execution_count": null,
      "outputs": []
    },
    {
      "cell_type": "code",
      "metadata": {
        "id": "LspJIgNdZeXm"
      },
      "source": [
        "# Vamos transformar a coluna de data no índice do conjunto de dados. Isso vai facilitar nosso trabalho mais a frente.\n",
        "dados_serie = dados.set_index('mes')"
      ],
      "execution_count": null,
      "outputs": []
    },
    {
      "cell_type": "code",
      "metadata": {
        "id": "JqkORJWLZeXo"
      },
      "source": [
        "# Visualizando os Dados\n",
        "dados_serie.head()"
      ],
      "execution_count": null,
      "outputs": []
    },
    {
      "cell_type": "markdown",
      "metadata": {
        "id": "hP2RJR8BZeXq"
      },
      "source": [
        "Agora sim podemos chamar esse conjunto de dados de série temporal. Vamos visualizar o índice:"
      ]
    },
    {
      "cell_type": "code",
      "metadata": {
        "id": "XTHddqOOZeXr"
      },
      "source": [
        "# Visualizando o índice\n",
        "dados_serie.index"
      ],
      "execution_count": null,
      "outputs": []
    },
    {
      "cell_type": "code",
      "metadata": {
        "id": "0mTDOYbAZeXs",
        "scrolled": true
      },
      "source": [
        "# Será que algum valor nulo está presente nos dados?\n",
        "dados_serie.isnull().sum()"
      ],
      "execution_count": null,
      "outputs": []
    },
    {
      "cell_type": "code",
      "metadata": {
        "id": "gZEUPLuaZeXu",
        "scrolled": false
      },
      "source": [
        "# Plot da série temporal\n",
        "dados_serie.plot(figsize = (15, 6))\n",
        "plt.show()"
      ],
      "execution_count": null,
      "outputs": []
    },
    {
      "cell_type": "markdown",
      "metadata": {
        "id": "siiUO1My3nOt"
      },
      "source": [
        "O gráfico acima mostra 2 componentes da série: Sazonalidade e Tendência. \n",
        "\n",
        "- Sazonalidade - o fenômeno se repete em períodos fixos.\n",
        "- Tendência - ao longo do tempo, a série segue uma tendência de crescimento."
      ]
    },
    {
      "cell_type": "markdown",
      "metadata": {
        "id": "W65pV4Bz3nOu"
      },
      "source": [
        "Outro aspecto a considerar é o comportamento cíclico. Isso acontece quando o padrão de subida e descida da série não ocorre em intervalos fixos baseados em calendário. Deve-se tomar cuidado para não confundir efeito \"cíclico\" com efeito \"sazonal\".\n",
        "\n",
        "Então, como diferenciar um padrão \"cíclico\" versus \"sazonal\"?\n",
        "\n",
        "Se os padrões não tiverem frequências fixas baseadas em calendário, será cíclico. Porque, diferentemente da sazonalidade, os efeitos cíclicos são tipicamente influenciados pelos negócios e outros fatores socioeconômicos.\n"
      ]
    },
    {
      "cell_type": "markdown",
      "metadata": {
        "id": "9NO0hzwhZeXx"
      },
      "source": [
        "Analisar o gráfico da densidade de observações pode fornecer mais informações sobre a estrutura dos dados. Vamos criar o gráfico: "
      ]
    },
    {
      "cell_type": "code",
      "metadata": {
        "id": "VCLoBl_oZeXx"
      },
      "source": [
        "# Gráfico de Densidade\n",
        "\n",
        "# Plot\n",
        "plt.figure(1)\n",
        "\n",
        "# Subplot 1\n",
        "plt.subplot(211)\n",
        "dados_serie.passageiros.hist()\n",
        "\n",
        "# Subplot 2\n",
        "plt.subplot(212)\n",
        "dados_serie.passageiros.plot(kind = 'kde')\n",
        "plt.show()"
      ],
      "execution_count": null,
      "outputs": []
    },
    {
      "cell_type": "markdown",
      "metadata": {
        "id": "K7lDEpgdZeXz"
      },
      "source": [
        "Análise:\n",
        "    \n",
        "- A distribuição não é perfeitamente gaussiana (distribuição normal).\n",
        "- A distribuição está inclinada para a esquerda.\n",
        "- As transformações podem ser úteis antes da modelagem."
      ]
    },
    {
      "cell_type": "markdown",
      "metadata": {
        "id": "N_jsqBaJZeX0"
      },
      "source": [
        "Vamos agora criar Box Plots para cada ano da série."
      ]
    },
    {
      "cell_type": "code",
      "metadata": {
        "id": "5Zs5lbbmZeX0"
      },
      "source": [
        "# Define a área de plotagem para os subplots (os boxplots)\n",
        "fig, ax = plt.subplots(figsize=(15,6))\n",
        "\n",
        "# Cria um box plot para cada ano usando o Seaborn\n",
        "# Observe que estamos extraindo o ano (year) do índice da série\n",
        "sns.boxplot(dados_serie.passageiros.index.year, dados_serie.passageiros, ax = ax)"
      ],
      "execution_count": null,
      "outputs": []
    },
    {
      "cell_type": "markdown",
      "metadata": {
        "id": "SlkZtIuXZeX2"
      },
      "source": [
        "Análise:\n",
        "\n",
        "- Valores medianos ao longo dos anos confirmam uma tendência ascendente.\n",
        "- Aumento constante da dispersão do meio (mediana) dos dados ao longo do tempo. As caixas vão se tornando cada vez maiores.\n",
        "- Um modelo considerando a sazonalidade pode funcionar bem para prever esta série."
      ]
    },
    {
      "cell_type": "code",
      "metadata": {
        "id": "NC2iGMbj3nO2"
      },
      "source": [
        "dados_serie.head()"
      ],
      "execution_count": null,
      "outputs": []
    },
    {
      "cell_type": "markdown",
      "metadata": {
        "id": "lqCpPCLI3nO4"
      },
      "source": [
        "Como é uma série temporal mensal e segue um determinado padrão repetitivo todos os anos, você pode plotar cada ano como uma linha separada no mesmo gráfico. Isso permite comparar os padrões do ano lado a lado.\n",
        "\n",
        "Vamos fazer isso? Então execute a célula abaixo.\n",
        "\n",
        "Observe que estou usando agora o dataset \"dados\" e não \"dados_serie\". Por que? Porque precisamos da data como uma coluna e não como índice, para criar o gráfico abaixo."
      ]
    },
    {
      "cell_type": "code",
      "metadata": {
        "id": "DoKKZBsn3nO5"
      },
      "source": [
        "# Prepara os dados\n",
        "x = dados['mes'].values\n",
        "y1 = dados['passageiros'].values"
      ],
      "execution_count": null,
      "outputs": []
    },
    {
      "cell_type": "code",
      "metadata": {
        "id": "4sIpNzUo3nO6"
      },
      "source": [
        "# Plot\n",
        "\n",
        "# Área de plotagem\n",
        "fig, ax = plt.subplots(1, 1, figsize = (16,5), dpi = 120)\n",
        "\n",
        "# Preenchimento do gráfico\n",
        "plt.fill_between(x, y1 = y1, y2 = -y1, alpha = 0.5, linewidth = 2, color = 'blue')\n",
        "\n",
        "# Limites do eixo y\n",
        "plt.ylim(-800, 800)\n",
        "\n",
        "# Título\n",
        "plt.title('Passageiros de Companhias Áreas (Visão Two-Sided)', fontsize = 16)\n",
        "\n",
        "# Limite das linhas\n",
        "plt.hlines(y = 0, xmin = np.min(dados.mes), xmax = np.max(dados.mes), linewidth = .5)\n",
        "\n",
        "# Mostra o gráfico\n",
        "plt.show()"
      ],
      "execution_count": null,
      "outputs": []
    },
    {
      "cell_type": "markdown",
      "metadata": {
        "id": "Q7NbTuqT3nO8"
      },
      "source": [
        "### Séries Temporais Aditivas e Multiplicativas\n",
        "\n",
        "Dependendo da natureza da tendência e da sazonalidade, uma série temporal pode ser modelada como aditiva ou multiplicativa, em que cada observação na série pode ser expressa como uma soma ou um produto dos componentes:\n",
        "\n",
        "- Séries temporais aditivas: Valor = Nível Base + Tendência + Sazonalidade + Erro\n",
        "\n",
        "\n",
        "- Séries temporais multiplicativas: Valor = Nível Base x Tendência x Sazonalidade x Erro"
      ]
    },
    {
      "cell_type": "markdown",
      "metadata": {
        "id": "XlFhswLyZeX3"
      },
      "source": [
        "### Descomposição da Série Temporal\n",
        "\n",
        "- Podemos usar os modelos estatísticos para realizar uma decomposição dessa série cronológica.\n",
        "- A decomposição de séries temporais é uma tarefa estatística que desconstrói uma série temporal em vários componentes, cada um representando uma das categorias de padrões.\n",
        "- Com os modelos de estatísticas, poderemos ver a tendência, os componentes sazonais e residuais de nossos dados.\n",
        "\n",
        "Você pode fazer uma decomposição clássica de uma série temporal, considerando a série como uma combinação aditiva ou multiplicativa do nível base, tendência, índice sazonal e residual.\n",
        "\n",
        "A função seasonal_decompose do pacote Statsmodels em Python implementa isso convenientemente. Aqui o site do Statsmodels com bastante documentação: https://www.statsmodels.org/\n",
        "\n",
        "O Statsmodels é estudado nas Formações FCD e FIAMED aqui na DSA. Confira aqui:\n",
        "\n",
        "https://www.datascienceacademy.com.br/pages/todos-os-cursos-dsa"
      ]
    },
    {
      "cell_type": "markdown",
      "metadata": {
        "id": "CFhsWaMM3nO9"
      },
      "source": [
        "Vamos então decompor nossa série temporal."
      ]
    },
    {
      "cell_type": "code",
      "metadata": {
        "id": "wJMCTUIP3nO-"
      },
      "source": [
        "# Multiplicative Decomposition \n",
        "decomposicao_multiplicativa = sm.tsa.seasonal_decompose(dados_serie, model = 'multiplicative', \n",
        "                                                        extrapolate_trend = 'freq')\n",
        "\n",
        "# Additive Decomposition\n",
        "decomposicao_aditiva = sm.tsa.seasonal_decompose(dados_serie, model = 'aditive', \n",
        "                                                 extrapolate_trend = 'freq')\n",
        "\n",
        "# Plot\n",
        "plt.rcParams.update({'figure.figsize': (16,10)})\n",
        "decomposicao_multiplicativa.plot().suptitle('Decomposição Multiplicativa', fontsize = 22)\n",
        "decomposicao_aditiva.plot().suptitle('Decomposição Aditiva', fontsize = 22)\n",
        "plt.show()"
      ],
      "execution_count": null,
      "outputs": []
    },
    {
      "cell_type": "markdown",
      "metadata": {
        "id": "cNdb_98WZeX8"
      },
      "source": [
        "No gráfico acima podemos ver os componentes da série temporal:\n",
        "\n",
        "1- A primeira linha do gráfico mostra os dados observados, em nosso exemplo o número de passageiros.\n",
        "\n",
        "2- A segunda linha mostra a tendência do gráfico, que claramente é uma tendência de crescimento, ou seja, o númeto de passageiros tende a crescer ao longo do tempo.\n",
        "\n",
        "3- A terceira linha mostra a sazonalidade. Claramente temos períodos regulares de aumento e queda, momentos em que temos mais passageiros e momentos com menos passageiros nas viagens aéreas. Isso talvez possa ser explicado pelo aumento das viagens no período de férias, o que se repete ano após ano.\n",
        "\n",
        "4- A quarta linha é o componete irregular ou resíduo."
      ]
    },
    {
      "cell_type": "markdown",
      "metadata": {
        "id": "YlJXDYL13nPA"
      },
      "source": [
        "Definir extrapolate_trend = 'freq' cuida de todos os valores ausentes na tendência e nos resíduos no início da série (se existirem, claro).\n",
        "\n",
        "Se você observar atentamente os resíduos da decomposição aditiva, ela permanece com algum padrão. A decomposição multiplicativa, no entanto, parece bastante aleatória, o que é bom. Então, idealmente, a decomposição multiplicativa deve ser preferida para essa série específica.\n",
        "\n",
        "A saída numérica da tendência, os componentes sazonais e residuais são armazenados na própria saída decomposicao_multiplicativa. Vamos extraí-los e colocá-los em uma tabela de dados."
      ]
    },
    {
      "cell_type": "code",
      "metadata": {
        "id": "bOmVEOX23nPB"
      },
      "source": [
        "# Tipo do objeto\n",
        "type(decomposicao_multiplicativa)"
      ],
      "execution_count": null,
      "outputs": []
    },
    {
      "cell_type": "code",
      "metadata": {
        "id": "G6W4-ECJ3nPD"
      },
      "source": [
        "# Extrair os componentes\n",
        "# Valores reais = Produto de (sazonal * tendência * resíduo)\n",
        "\n",
        "# Concatena o resultado da decomposição da série\n",
        "dados_serie_reconstruida = pd.concat([decomposicao_multiplicativa.seasonal, \n",
        "                                      decomposicao_multiplicativa.trend, \n",
        "                                      decomposicao_multiplicativa.resid, \n",
        "                                      decomposicao_multiplicativa.observed], axis = 1)\n",
        "\n",
        "# Define o nome das colunas\n",
        "dados_serie_reconstruida.columns = ['Sazonalidade', 'Tendência', 'Resíduos', 'Valores_Observados']\n",
        "\n",
        "# Mostra o resultado\n",
        "dados_serie_reconstruida.head ()"
      ],
      "execution_count": null,
      "outputs": []
    },
    {
      "cell_type": "markdown",
      "metadata": {
        "id": "9hNin4xV3nPE"
      },
      "source": [
        "Se você checar, o produto das colunas Sazonalidade, Tendência e Resíduos deve ser exatamente igual a Valores_Observados.\n",
        "\n",
        "Por exemplo:\n",
        "\n",
        "- Série na data 1949-01-01 = 112.0\n",
        "- Série na data 1949-01-01 = Sazonalidade x Tendência x Resíduos = 0.911256 x 118.588481 x 1.036418 = 112.0"
      ]
    },
    {
      "cell_type": "code",
      "metadata": {
        "id": "Bngp5Dev3nPF"
      },
      "source": [
        "# Cálculo em Python\n",
        "valor_observado = 0.911256 * 118.588481 * 1.036418\n",
        "print(valor_observado)"
      ],
      "execution_count": null,
      "outputs": []
    },
    {
      "cell_type": "markdown",
      "metadata": {
        "id": "RKs9PR5b3nPG"
      },
      "source": [
        "Ou seja, isso comprova como uma série temporal é na verdade o conjunto de componentes que podem ser extraídos, transformados, analisados e usados para fazer previsões."
      ]
    },
    {
      "cell_type": "markdown",
      "metadata": {
        "id": "zVJtwChdZeX-"
      },
      "source": [
        "# Fim Aula 4"
      ]
    }
  ]
}